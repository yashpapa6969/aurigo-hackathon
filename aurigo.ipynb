{
 "cells": [
  {
   "cell_type": "code",
   "execution_count": 53,
   "metadata": {},
   "outputs": [],
   "source": [
    "%%capture --no-stderr\n",
    "!pip install -U langchain_community tiktoken langchain-openai langchain-cohere langchainhub chromadb langchain langgraph  tavily-python"
   ]
  },
  {
   "cell_type": "code",
   "execution_count": 54,
   "metadata": {},
   "outputs": [],
   "source": [
    "from langchain.llms import OpenAI\n",
    "from langchain.tools import Tool\n",
    "from langchain.agents import initialize_agent, Tool\n",
    "from langchain.chat_models import ChatOpenAI\n",
    "from langchain.output_parsers import PydanticOutputParser\n",
    "from langchain.prompts import PromptTemplate\n",
    "from pydantic import BaseModel\n",
    "from typing import List\n",
    "import tavily"
   ]
  },
  {
   "cell_type": "code",
   "execution_count": 55,
   "metadata": {},
   "outputs": [],
   "source": [
    "class MaterialResponse(BaseModel):\n",
    "    material: List[str]"
   ]
  },
  {
   "cell_type": "code",
   "execution_count": 56,
   "metadata": {},
   "outputs": [
    {
     "data": {
      "text/plain": [
       "True"
      ]
     },
     "execution_count": 56,
     "metadata": {},
     "output_type": "execute_result"
    }
   ],
   "source": [
    "import os\n",
    "from dotenv import load_dotenv\n",
    "\n",
    "load_dotenv()"
   ]
  },
  {
   "cell_type": "code",
   "execution_count": 57,
   "metadata": {},
   "outputs": [],
   "source": [
    "TAVILY_API_KEY = os.getenv(\"TAVILY_API_KEY\")\n",
    "OPENAI_API_KEY = os.getenv(\"OPENAI_API_KEY\")"
   ]
  },
  {
   "cell_type": "code",
   "execution_count": 58,
   "metadata": {},
   "outputs": [],
   "source": [
    "import getpass\n",
    "import os\n",
    "\n",
    "if not os.environ.get(\"TAVILY_API_KEY\"):\n",
    "    os.environ[\"TAVILY_API_KEY\"] = getpass.getpass(\"Tavily API key:\\n\")"
   ]
  },
  {
   "cell_type": "code",
   "execution_count": 59,
   "metadata": {},
   "outputs": [],
   "source": [
    "from langchain_community.tools import TavilySearchResults\n",
    "\n",
    "tool = TavilySearchResults(\n",
    "    max_results=5,\n",
    "    search_depth=\"advanced\",\n",
    "    include_answer=True,\n",
    "    include_raw_content=True,\n",
    "    include_images=True,\n",
    ")"
   ]
  },
  {
   "cell_type": "code",
   "execution_count": 60,
   "metadata": {},
   "outputs": [
    {
     "data": {
      "text/plain": [
       "[{'url': 'https://constrofacilitator.com/types-of-waste-materials-used-for-road-construction-in-india/',\n",
       "  'content': 'Facebook Instagram Linkedin Pinterest RSS Share Twitter Youtube To construct India’s first Pavement Quality Concrete (PQC) with steel slag, the National Highways Authority of India (NHAI) started trials for its possible use in road construction.The authority permitted Central Road Research Institute (CRRI) to construct a 1-km-long trial patch in the Raigarh district, for PQC of the Panvel-Indapur section of NH-66 near Mumbai, where 100 percent natural aggregates were replaced by steel slag-derived aggregates. In February 2023, in its effort to increase the use of plastic waste in road construction, the road transport and highways ministry made the use of the waste material in hot mix bituminous wearing coat or top layer mandatory on all service and slip roads throughout the National Highway (NH) network in the country.'},\n",
       " {'url': 'https://stellartesthouse.com/what-are-the-different-materials-used-to-build-roads-in-india/',\n",
       "  'content': 'What Are the Different Materials Used To Build Roads in India - Stellar Test House Water Testing Water Testing These comprise soils (a combination of organic and processed soil), aggregates (belonging to both fine and coarse varieties found from rocks), binders such as bituminous materials, lime, etc. Also simply referred to as bitumen or asphalt, they constitute one of the most important materials used in the construction of roads. Otherwise their amalgam with cement and water are used. Paste comprises of cement, water, and incorporated air. Water reducing admixture is meant to contribute extra operability into plastic concrete with lesser water content thereby leading to an increase in strength with a lower water to cement ratio.'},\n",
       " {'url': 'https://morth.nic.in/New-Material-Technology-on-NH',\n",
       "  'content': 'New Material / Technology on NH | Ministry of Road Transport & Highways, Government of India Circulars / Notifications related to National Highways Circulars / Notifications related to Road Transport Circulars / Notifications related to Road Safety Circulars / Notifications related to National Highways | 1 | Minutes of the Meeting of the Coordination Committee to select new material/new technology for use on National Highways (368.76 Kb ) | 30-11-2017 | | 2 | Minutes of the meeting of the Coordination Committee on new materials/new technology for use in construction of National Highways held on 09.09.2016, 22-09-2016 and 10.11.2016 (157.78 Kb ) | 21-12-2016 | Website Content Owned and Managed by Ministry of Road Transport and Highways, Government of India'},\n",
       " {'url': 'https://www.aec.edu.in/aec/Instruction_Material/TE_Lecture_Notes-Unit-5.pdf',\n",
       "  'content': 'The materials which are used in the construction of highway are of intense interest to the highway engineer. This requires not only a thorough understanding of the soil and aggregate properties which affect pavement stability and durability, but also the binding materials which may be added to improve these pavement features.'},\n",
       " {'url': 'https://civilengi.com/road-construction-how-to-construct-the-layers-of-the-road-and-what-materials-to-use-in-the-process/',\n",
       "  'content': \"Roads in India: India's road network is the second largest network in the world with a total length of around 4320000 kilometers. The Indian road network consists of 1000 km- Expressways. 79.243 km- National Highway.131,899 km- State Highways and the other major district and rural roads.\"}]"
      ]
     },
     "execution_count": 60,
     "metadata": {},
     "output_type": "execute_result"
    }
   ],
   "source": [
    "tool.invoke(\"material requires for highway construction in india\")"
   ]
  },
  {
   "cell_type": "code",
   "execution_count": 61,
   "metadata": {},
   "outputs": [],
   "source": [
    "import getpass\n",
    "import os\n",
    "\n",
    "if not os.environ.get(\"OPENAI_API_KEY\"):\n",
    "  os.environ[\"OPENAI_API_KEY\"] = getpass.getpass(\"Enter API key for OpenAI: \")\n",
    "\n",
    "from langchain_openai import ChatOpenAI\n",
    "\n",
    "llm = ChatOpenAI(model=\"gpt-4o-mini\")"
   ]
  },
  {
   "cell_type": "code",
   "execution_count": 62,
   "metadata": {},
   "outputs": [
    {
     "name": "stdout",
     "output_type": "stream",
     "text": [
      "content='In addition to the primary materials listed above, highway construction in India may also require other materials and components, including:\\n\\n12. **Asphalt Mixes**: Different types of asphalt mixes, such as dense bitumen macadam (DBM) and bituminous concrete (BC), are used based on traffic loads and environmental conditions.\\n\\n13. **Sealant and Joint Fillers**: Materials like silicone or polyurethane sealants are used to seal joints and cracks in asphalt and concrete pavements.\\n\\n14. **Emulsions**: Bitumen emulsions are used for surface treatments, tack coats, and as a binding agent in cold mixtures.\\n\\n15. **Reinforced Soil Materials**: Such as mechanically stabilized earth (MSE) walls that use reinforcement materials to increase load-bearing capacity.\\n\\n16. **Surveying Instruments**: These include levels, total stations, and GPS devices for accurate planning and alignment of the highway.\\n\\n17. **Safety Barriers**: Materials used for constructing concrete or metal crash barriers to enhance road safety.\\n\\n18. **Environmental Materials**: Such as dust suppressants and erosion control materials to minimize environmental impact during construction.\\n\\n19. **Signage and Reflectors**: Including plastic or metal road signs and reflective materials for nighttime visibility.\\n\\n20. **Pavement Marking Materials**: Such as thermoplastic paints or reflective beads for road markings.\\n\\n21. **Culverts and Drainage Systems**: Precast concrete or plastic components for managing surface water and preventing flooding.\\n\\nBy incorporating a diverse range of materials, highway construction in India can effectively address local conditions, traffic demands, and safety standards, ensuring sustainable and efficient transportation infrastructure.' additional_kwargs={'refusal': None} response_metadata={'token_usage': {'completion_tokens': 336, 'prompt_tokens': 514, 'total_tokens': 850, 'completion_tokens_details': {'accepted_prediction_tokens': 0, 'audio_tokens': 0, 'reasoning_tokens': 0, 'rejected_prediction_tokens': 0}, 'prompt_tokens_details': {'audio_tokens': 0, 'cached_tokens': 0}}, 'model_name': 'gpt-4o-mini-2024-07-18', 'system_fingerprint': 'fp_72ed7ab54c', 'finish_reason': 'stop', 'logprobs': None} id='run-7132fa40-d9c5-4632-b630-02f76f133cbe-0' usage_metadata={'input_tokens': 514, 'output_tokens': 336, 'total_tokens': 850, 'input_token_details': {'audio': 0, 'cache_read': 0}, 'output_token_details': {'audio': 0, 'reasoning': 0}}\n"
     ]
    }
   ],
   "source": [
    "import datetime\n",
    "\n",
    "from langchain_core.prompts import ChatPromptTemplate\n",
    "from langchain_core.runnables import RunnableConfig, chain\n",
    "today = datetime.datetime.today().strftime(\"%D\")\n",
    "\n",
    "prompt = ChatPromptTemplate(\n",
    "    [\n",
    "        (\"system\", f\"You are an expert construction planner with access to a vast knowledge base and real-time web search capabilities. The date today is {today}.\"),\n",
    "        (\"human\", \"{user_input}\"),\n",
    "        (\"placeholder\", \"{messages}\"),\n",
    "    ]\n",
    ")\n",
    "\n",
    "\n",
    "llm_with_tools = llm.bind_tools([tool])\n",
    "llm_chain = prompt | llm_with_tools\n",
    "@chain\n",
    "def tool_chain(user_input: str, config: RunnableConfig):\n",
    "    input_ = {\"user_input\": user_input}\n",
    "    ai_msg = llm_chain.invoke(input_, config=config)\n",
    "    tool_msgs = tool.batch(ai_msg.tool_calls, config=config)\n",
    "    return llm_chain.invoke({**input_, \"messages\": [ai_msg, *tool_msgs]}, config=config)\n",
    "\n",
    "response = tool_chain.invoke(\"What materials are needed for highway construction in India?\")\n",
    "print(response)\n"
   ]
  },
  {
   "cell_type": "code",
   "execution_count": 63,
   "metadata": {},
   "outputs": [
    {
     "data": {
      "text/plain": [
       "'In addition to the primary materials listed above, highway construction in India may also require other materials and components, including:\\n\\n12. **Asphalt Mixes**: Different types of asphalt mixes, such as dense bitumen macadam (DBM) and bituminous concrete (BC), are used based on traffic loads and environmental conditions.\\n\\n13. **Sealant and Joint Fillers**: Materials like silicone or polyurethane sealants are used to seal joints and cracks in asphalt and concrete pavements.\\n\\n14. **Emulsions**: Bitumen emulsions are used for surface treatments, tack coats, and as a binding agent in cold mixtures.\\n\\n15. **Reinforced Soil Materials**: Such as mechanically stabilized earth (MSE) walls that use reinforcement materials to increase load-bearing capacity.\\n\\n16. **Surveying Instruments**: These include levels, total stations, and GPS devices for accurate planning and alignment of the highway.\\n\\n17. **Safety Barriers**: Materials used for constructing concrete or metal crash barriers to enhance road safety.\\n\\n18. **Environmental Materials**: Such as dust suppressants and erosion control materials to minimize environmental impact during construction.\\n\\n19. **Signage and Reflectors**: Including plastic or metal road signs and reflective materials for nighttime visibility.\\n\\n20. **Pavement Marking Materials**: Such as thermoplastic paints or reflective beads for road markings.\\n\\n21. **Culverts and Drainage Systems**: Precast concrete or plastic components for managing surface water and preventing flooding.\\n\\nBy incorporating a diverse range of materials, highway construction in India can effectively address local conditions, traffic demands, and safety standards, ensuring sustainable and efficient transportation infrastructure.'"
      ]
     },
     "execution_count": 63,
     "metadata": {},
     "output_type": "execute_result"
    }
   ],
   "source": [
    "response.content"
   ]
  },
  {
   "cell_type": "code",
   "execution_count": 67,
   "metadata": {},
   "outputs": [
    {
     "name": "stdout",
     "output_type": "stream",
     "text": [
      "content='{\\n    \"data\": [\\n        {\\n            \"material\": \"Cement\",\\n            \"price\": 6000\\n        },\\n        {\\n            \"material\": \"Steel (TMT Bars)\",\\n            \"price\": 50000\\n        },\\n        {\\n            \"material\": \"Concrete (Ready Mix Concrete)\",\\n            \"price\": 7000\\n        },\\n        {\\n            \"material\": \"Sand\",\\n            \"price\": 1500\\n        },\\n        {\\n            \"material\": \"Aggregates\",\\n            \"price\": 1200\\n        },\\n        {\\n            \"material\": \"Bricks\",\\n            \"price\": 5000\\n        }\\n    ]\\n}' additional_kwargs={'refusal': None} response_metadata={'token_usage': {'completion_tokens': 136, 'prompt_tokens': 1036, 'total_tokens': 1172, 'completion_tokens_details': {'accepted_prediction_tokens': 0, 'audio_tokens': 0, 'reasoning_tokens': 0, 'rejected_prediction_tokens': 0}, 'prompt_tokens_details': {'audio_tokens': 0, 'cached_tokens': 0}}, 'model_name': 'gpt-4o-mini-2024-07-18', 'system_fingerprint': 'fp_72ed7ab54c', 'finish_reason': 'stop', 'logprobs': None} id='run-e4771624-9f41-4f5f-9ee3-d42b77f00740-0' usage_metadata={'input_tokens': 1036, 'output_tokens': 136, 'total_tokens': 1172, 'input_token_details': {'audio': 0, 'cache_read': 0}, 'output_token_details': {'audio': 0, 'reasoning': 0}}\n"
     ]
    }
   ],
   "source": [
    "from langchain.prompts import ChatPromptTemplate\n",
    "from langchain.output_parsers import PydanticOutputParser\n",
    "\n",
    "# class MaterialBase(BaseModel):\n",
    "#     material: str\n",
    "#     price: int\n",
    "    \n",
    "# class MaterialResponse(BaseModel):\n",
    "#     data: list[MaterialBase]\n",
    "\n",
    "# prompt = ChatPromptTemplate(\n",
    "#     [\n",
    "#         (\"system\", \"\"\"You are an expert construction planner with access to a vast knowledge base and real-time web search capabilities. The response must be in JSON format as follows:{{\n",
    "#             \"material\": [\n",
    "#                 \"Material 1\",\n",
    "#                 \"Material 2\",\n",
    "#                 \"Material 3\",\n",
    "#                 \"... (other materials)\"\n",
    "#             ]\n",
    "#         }}\"\"\"),\n",
    "#         (\"human\", \"{user_input}\"),\n",
    "#         (\"placeholder\", \"{messages}\"),\n",
    "#     ]\n",
    "# )\n",
    "\n",
    "class MaterialBase(BaseModel):\n",
    "    material: str\n",
    "    price: int\n",
    "\n",
    "class MaterialResponse(BaseModel):\n",
    "    data: list[MaterialBase]\n",
    "\n",
    "prompt = ChatPromptTemplate(\n",
    "    [\n",
    "         (\"system\", \"\"\"You are an expert construction planner with access to a vast knowledge base and real-time web search capabilities. The response must be in below JSON format strictly without any explanation and comments:\n",
    "        {{\n",
    "            \"data\": [\n",
    "                {{\n",
    "                    \"material\": \"Material 1\", \n",
    "                    \"price\": 1000\n",
    "                }},\n",
    "                {{\n",
    "                    \"material\": \"Material 2\", \n",
    "                    \"price\": 1500\n",
    "                }},\n",
    "                {{\n",
    "                    \"material\": \"Material 3\", \n",
    "                    \"price\": 2000\n",
    "                }}\n",
    "                // Add more materials and their prices as needed\n",
    "            ]\n",
    "        }}\"\"\"),\n",
    "        (\"human\", \"{user_input}\"),\n",
    "        (\"placeholder\", \"{messages}\"),\n",
    "    ]\n",
    ")\n",
    "\n",
    "\n",
    "llm_with_tools = llm.bind_tools([tool])\n",
    "llm_chain = prompt | llm_with_tools\n",
    "parser = PydanticOutputParser(pydantic_object=MaterialResponse)\n",
    "\n",
    "@chain\n",
    "def tool_chain(user_input: str, config: RunnableConfig):\n",
    "    input_ = {\"user_input\": user_input}\n",
    "    ai_msg = llm_chain.invoke(input_, config=config)\n",
    "    tool_msgs = tool.batch(ai_msg.tool_calls, config=config)\n",
    "    response = llm_chain.invoke({**input_, \"messages\": [ai_msg, *tool_msgs]}, config=config)\n",
    "    return response\n",
    "\n",
    "    \n",
    "\n",
    "response = tool_chain.invoke(\"What materials are needed for metro constructions in India and give the price in per meter cube?\")\n",
    "print(response)"
   ]
  },
  {
   "cell_type": "code",
   "execution_count": 68,
   "metadata": {},
   "outputs": [],
   "source": [
    "parsed_response = parser.parse(response.content)\n"
   ]
  },
  {
   "cell_type": "code",
   "execution_count": 69,
   "metadata": {},
   "outputs": [
    {
     "data": {
      "text/plain": [
       "{'data': [{'material': 'Cement', 'price': 6000},\n",
       "  {'material': 'Steel (TMT Bars)', 'price': 50000},\n",
       "  {'material': 'Concrete (Ready Mix Concrete)', 'price': 7000},\n",
       "  {'material': 'Sand', 'price': 1500},\n",
       "  {'material': 'Aggregates', 'price': 1200},\n",
       "  {'material': 'Bricks', 'price': 5000}]}"
      ]
     },
     "execution_count": 69,
     "metadata": {},
     "output_type": "execute_result"
    }
   ],
   "source": [
    "parsed_response.model_dump()"
   ]
  },
  {
   "cell_type": "code",
   "execution_count": 3,
   "metadata": {},
   "outputs": [
    {
     "name": "stdout",
     "output_type": "stream",
     "text": [
      "{'Cement': 6000, 'Steel (TMT Bars)': 50000, 'Concrete (Ready Mix Concrete)': 7000, 'Sand': 1500, 'Aggregates': 1200, 'Bricks': 5000}\n"
     ]
    }
   ],
   "source": [
    "from pydantic import BaseModel, create_model\n",
    "\n",
    "# Example parsed response\n",
    "parsed_response = {\n",
    "    'data': [\n",
    "        {'material': 'Cement', 'price': 6000},\n",
    "        {'material': 'Steel (TMT Bars)', 'price': 50000},\n",
    "        {'material': 'Concrete (Ready Mix Concrete)', 'price': 7000},\n",
    "        {'material': 'Sand', 'price': 1500},\n",
    "        {'material': 'Aggregates', 'price': 1200},\n",
    "        {'material': 'Bricks', 'price': 5000}\n",
    "    ]\n",
    "}\n",
    "\n",
    "# Dynamically generate fields for the Pydantic model\n",
    "fields = {item['material']: (int, ...) for item in parsed_response['data']}\n",
    "\n",
    "# Create a Pydantic model dynamically\n",
    "DynamicMaterial = create_model(\"DynamicMaterial\", **fields)\n",
    "\n",
    "# Example usage\n",
    "material_data = {\n",
    "    \"Cement\": 6000,\n",
    "    \"Steel (TMT Bars)\": 50000,\n",
    "    \"Concrete (Ready Mix Concrete)\": 7000,\n",
    "    \"Sand\": 1500,\n",
    "    \"Aggregates\": 1200,\n",
    "    \"Bricks\": 5000\n",
    "}\n",
    "\n",
    "# Validate data using the dynamically created model\n",
    "material_instance = DynamicMaterial(**material_data)\n",
    "print(material_instance.model_dump())\n"
   ]
  }
 ],
 "metadata": {
  "kernelspec": {
   "display_name": "base",
   "language": "python",
   "name": "python3"
  },
  "language_info": {
   "codemirror_mode": {
    "name": "ipython",
    "version": 3
   },
   "file_extension": ".py",
   "mimetype": "text/x-python",
   "name": "python",
   "nbconvert_exporter": "python",
   "pygments_lexer": "ipython3",
   "version": "3.11.7"
  }
 },
 "nbformat": 4,
 "nbformat_minor": 2
}
